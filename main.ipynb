{
 "cells": [
  {
   "cell_type": "markdown",
   "metadata": {},
   "source": [
    "#### Laboratorio 4 : Optimizacion\n",
    "\n",
    "Jorge Caballeros 20009\n",
    "\n",
    "Alejandra Guzmán 20262\n",
    "\n",
    "__Instrucciones:__\n",
    "Utilice el dataset compartido en el espacio para construir la mejor red neuronal posible según las técnicas de\n",
    "optimización vistas en clase.\n",
    "__Objetivo:__  \n",
    "Maximizar accuracy del pronóstico de la columna Y. default payment next month 1.\n"
   ]
  },
  {
   "cell_type": "code",
   "execution_count": 48,
   "metadata": {},
   "outputs": [
    {
     "name": "stdout",
     "output_type": "stream",
     "text": [
      "[]\n"
     ]
    }
   ],
   "source": [
    "import tensorflow as tf\n",
    "print(tf.config.list_physical_devices('GPU'))\n"
   ]
  },
  {
   "cell_type": "code",
   "execution_count": 49,
   "metadata": {},
   "outputs": [
    {
     "data": {
      "text/plain": [
       "((24000, 23), (6000, 23), (24000,), (6000,))"
      ]
     },
     "execution_count": 49,
     "metadata": {},
     "output_type": "execute_result"
    }
   ],
   "source": [
    "import pandas as pd\n",
    "from sklearn.model_selection import train_test_split\n",
    "from sklearn.preprocessing import StandardScaler\n",
    "\n",
    "# Cargar el dataset\n",
    "data = pd.read_excel(\"data.xlsx\")\n",
    "\n",
    "# Establecer la primera fila como encabezados de columnas\n",
    "data.columns = data.iloc[0]\n",
    "data = data.drop(0)\n",
    "\n",
    "# Eliminar la columna de identificación\n",
    "data = data.drop(columns=[\"ID\"])\n",
    "\n",
    "# Convertir las columnas a tipos numéricos\n",
    "data = data.apply(pd.to_numeric)\n",
    "\n",
    "# Separar características y etiquetas\n",
    "X = data.drop(columns=[\"default payment next month\"])\n",
    "y = data[\"default payment next month\"].values\n",
    "\n",
    "# Dividir el dataset en conjuntos de entrenamiento y prueba\n",
    "X_train, X_test, y_train, y_test = train_test_split(X, y, test_size=0.2, random_state=42)\n",
    "\n",
    "# Escalar las características\n",
    "scaler = StandardScaler()\n",
    "X_train = scaler.fit_transform(X_train)\n",
    "X_test = scaler.transform(X_test)\n",
    "\n",
    "X_train.shape, X_test.shape, y_train.shape, y_test.shape\n"
   ]
  },
  {
   "cell_type": "markdown",
   "metadata": {},
   "source": [
    "Random models "
   ]
  },
  {
   "cell_type": "code",
   "execution_count": 50,
   "metadata": {},
   "outputs": [
    {
     "name": "stdout",
     "output_type": "stream",
     "text": [
      "Model: \"sequential_18\"\n",
      "_________________________________________________________________\n",
      " Layer (type)                Output Shape              Param #   \n",
      "=================================================================\n",
      " dense_62 (Dense)            (None, 16)                384       \n"
     ]
    },
    {
     "name": "stdout",
     "output_type": "stream",
     "text": [
      "                                                                 \n",
      " dense_63 (Dense)            (None, 1)                 17        \n",
      "                                                                 \n",
      "=================================================================\n",
      "Total params: 401\n",
      "Trainable params: 401\n",
      "Non-trainable params: 0\n",
      "_________________________________________________________________\n"
     ]
    }
   ],
   "source": [
    "from tensorflow import keras\n",
    "import random\n",
    "\n",
    "# Definir hiperparámetros aleatorios\n",
    "def random_hyperparameters():\n",
    "    num_layers = random.randint(1, 5)\n",
    "    neurons_per_layer = random.choice([16, 32, 64, 128])\n",
    "    activation_function = random.choice(['relu', 'tanh', 'sigmoid', 'softmax', 'elu', 'selu'])\n",
    "    loss_function = 'binary_crossentropy'\n",
    "    optimizer = random.choice(['sgd', 'adam', 'rmsprop'])\n",
    "    regularizer = random.choice(['dropout', 'l1', 'l2'])\n",
    "    batch_size = random.choice([16, 32, 64, 128])\n",
    "    \n",
    "    return num_layers, neurons_per_layer, activation_function, loss_function, optimizer, regularizer, batch_size\n",
    "\n",
    "def create_model(num_layers, neurons_per_layer, activation_function, loss_function, optimizer, regularizer, batch_size):\n",
    "    model = keras.models.Sequential()\n",
    "    model.add(keras.layers.InputLayer(input_shape=(X_train.shape[1],)))\n",
    "    \n",
    "    for _ in range(num_layers):\n",
    "        if regularizer == 'dropout':\n",
    "            model.add(keras.layers.Dropout(0.5))\n",
    "        elif regularizer == 'l1':\n",
    "            model.add(keras.layers.Dense(neurons_per_layer, activation=activation_function, kernel_regularizer=keras.regularizers.l1(0.01)))\n",
    "        elif regularizer == 'l2':\n",
    "            model.add(keras.layers.Dense(neurons_per_layer, activation=activation_function, kernel_regularizer=keras.regularizers.l2(0.01)))\n",
    "        else:\n",
    "            model.add(keras.layers.Dense(neurons_per_layer, activation=activation_function))\n",
    "            \n",
    "    model.add(keras.layers.Dense(1, activation='sigmoid'))\n",
    "    model.compile(optimizer=optimizer, loss=loss_function, metrics=['accuracy'])\n",
    "    \n",
    "    return model\n",
    "\n",
    "num_layers, neurons_per_layer, activation_function, loss_function, optimizer, regularizer, batch_size = random_hyperparameters()\n",
    "# Crear un modelo de prueba para verificar la función\n",
    "model = create_model(num_layers, neurons_per_layer, activation_function, loss_function, optimizer, regularizer, batch_size)\n",
    "model.summary()\n"
   ]
  },
  {
   "cell_type": "code",
   "execution_count": 51,
   "metadata": {},
   "outputs": [],
   "source": [
    "from sklearn.model_selection import StratifiedKFold\n",
    "import numpy as np\n",
    "\n",
    "def fit_solution(model, X, y):\n",
    "    \"\"\"\n",
    "    Entrena un modelo y devuelve su rendimiento usando validación cruzada estratificada.\n",
    "    \"\"\"\n",
    "    kfold = StratifiedKFold(n_splits=5, shuffle=True, random_state=42)\n",
    "    scores = []\n",
    "    \n",
    "    for train_idx, val_idx in kfold.split(X, y):\n",
    "        train_data, val_data = X[train_idx], X[val_idx]\n",
    "        train_labels, val_labels = y[train_idx], y[val_idx]\n",
    "        \n",
    "        model.fit(train_data, train_labels, epochs=50, verbose=0, batch_size=32, validation_data=(val_data, val_labels))\n",
    "        _, accuracy = model.evaluate(val_data, val_labels, verbose=0)\n",
    "        scores.append(accuracy)\n",
    "    \n",
    "    return np.mean(scores)\n",
    "\n",
    "\n",
    "# Definir select_fitness_solution para seleccionar los modelos más aptos\n",
    "def select_fitness_solution(population, fitnesses, top_k=3):\n",
    "    \"\"\"\n",
    "    Selecciona los modelos más aptos.\n",
    "    \"\"\"\n",
    "    # Ordenar la población por rendimiento\n",
    "    sorted_indices = np.argsort(fitnesses)[::-1]\n",
    "    return [population[i] for i in sorted_indices[:top_k]]\n",
    "\n",
    "# Definir crossover para combinar dos soluciones\n",
    "def crossover(parent1, parent2):\n",
    "    \"\"\"\n",
    "    Combina dos soluciones para crear una nueva.\n",
    "    \"\"\"\n",
    "    crossover_point = random.randint(1, len(parent1) - 1)\n",
    "    child1 = parent1[:crossover_point] + parent2[crossover_point:]\n",
    "    child2 = parent2[:crossover_point] + parent1[crossover_point:]\n",
    "    return child1, child2\n",
    "\n",
    "# Definir mutation para hacer pequeños ajustes en una solución\n",
    "def mutate(solution):\n",
    "    \"\"\"\n",
    "    Hace pequeños ajustes en una solución para explorar el espacio de hiperparámetros.\n",
    "    \"\"\"\n",
    "    mutation_point = random.randint(0, len(solution) - 1)\n",
    "    if mutation_point == 0:\n",
    "        solution[mutation_point] = random.randint(1, 5)\n",
    "    elif mutation_point == 1:\n",
    "        solution[mutation_point] = random.choice([16, 32, 64, 128])\n",
    "    elif mutation_point == 2:\n",
    "        solution[mutation_point] = random.choice(['relu', 'tanh', 'sigmoid', 'softmax', 'elu', 'selu'])\n",
    "    elif mutation_point == 3:\n",
    "        solution[mutation_point] = 'binary_crossentropy'\n",
    "    elif mutation_point == 4:\n",
    "        solution[mutation_point] = random.choice(['sgd', 'adam', 'rmsprop'])\n",
    "    elif mutation_point == 5:\n",
    "        solution[mutation_point] = random.choice(['dropout', 'l1', 'l2'])\n",
    "    elif mutation_point == 6:\n",
    "        solution[mutation_point] = random.choice([16, 32, 64, 128])\n",
    "    return solution\n"
   ]
  },
  {
   "cell_type": "code",
   "execution_count": 52,
   "metadata": {},
   "outputs": [
    {
     "name": "stdout",
     "output_type": "stream",
     "text": [
      "--------------------------------------------------\n",
      "Generación 1 de 10\n",
      "Evaluando modelo 1 con hiperparámetros: (5, 16, 'sigmoid', 'binary_crossentropy', 'rmsprop', 'l2', 64)\n",
      "Accuracy del modelo 1: 0.7782\n",
      "Evaluando modelo 2 con hiperparámetros: (3, 128, 'selu', 'binary_crossentropy', 'rmsprop', 'l1', 32)\n"
     ]
    }
   ],
   "source": [
    "import numpy as np\n",
    "# Variables globales\n",
    "NUM_GENERATIONS = 10\n",
    "POPULATION_SIZE = 20\n",
    "TOP_K = 3\n",
    "\n",
    "# Inicializar la población con modelos aleatorios\n",
    "population = [random_hyperparameters() for _ in range(POPULATION_SIZE)]\n",
    "\n",
    "# Iterar a través de las generaciones\n",
    "for generation in range(NUM_GENERATIONS):\n",
    "    print('--------------------------------------------------')\n",
    "    print(f\"Generación {generation + 1} de {NUM_GENERATIONS}\")\n",
    "    \n",
    "    # Evaluar la aptitud de la población\n",
    "    fitnesses = []\n",
    "    for i, hyperparameters in enumerate(population):\n",
    "        print(f\"Evaluando modelo {i + 1} con hiperparámetros: {hyperparameters}\")\n",
    "        model = create_model(*hyperparameters)\n",
    "        fitness = fit_solution(model, X_train, y_train)\n",
    "        fitnesses.append(fitness)\n",
    "        print(f\"Accuracy del modelo {i + 1}: {fitness:.4f}\")\n",
    "    \n",
    "    # Seleccionar las mejores soluciones\n",
    "    best_solutions = select_fitness_solution(population, fitnesses, TOP_K)\n",
    "    \n",
    "    # Mostrar las mejores soluciones\n",
    "    for i, solution in enumerate(best_solutions, 1):\n",
    "        print(f\"Top {i} solución: {solution} con accuracy: {fitnesses[population.index(solution)]:.4f}\")\n",
    "    \n",
    "    # Generar una nueva población\n",
    "    new_population = []\n",
    "    for i in range(POPULATION_SIZE // 2):\n",
    "        parent1 = random.choice(best_solutions)\n",
    "        parent2 = random.choice(best_solutions)\n",
    "        while parent1 == parent2:\n",
    "            parent2 = random.choice(best_solutions)\n",
    "        \n",
    "        child1, child2 = crossover(parent1, parent2)\n",
    "        \n",
    "        # Mutación con una probabilidad del 10%\n",
    "        if random.random() < 0.1:\n",
    "            child1 = mutate(child1)\n",
    "        if random.random() < 0.1:\n",
    "            child2 = mutate(child2)\n",
    "        \n",
    "        new_population.extend([child1, child2])\n",
    "    \n",
    "    # Actualizar la población para la siguiente generación\n",
    "    population = new_population\n",
    "\n",
    "# Seleccionar la mejor solución al final de todas las generaciones\n",
    "final_best_index = np.argmax(fitnesses)\n",
    "print(f\"Mejor solución final: {population[final_best_index]} con accuracy: {fitnesses[final_best_index]:.4f}\")\n"
   ]
  }
 ],
 "metadata": {
  "kernelspec": {
   "display_name": "Python 3",
   "language": "python",
   "name": "python3"
  },
  "language_info": {
   "codemirror_mode": {
    "name": "ipython",
    "version": 3
   },
   "file_extension": ".py",
   "mimetype": "text/x-python",
   "name": "python",
   "nbconvert_exporter": "python",
   "pygments_lexer": "ipython3",
   "version": "3.11.3"
  },
  "orig_nbformat": 4
 },
 "nbformat": 4,
 "nbformat_minor": 2
}
